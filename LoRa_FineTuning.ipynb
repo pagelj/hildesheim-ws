{
 "cells": [
  {
   "cell_type": "code",
   "execution_count": null,
   "id": "8f355b3a-8225-4815-ad73-c65d678eede2",
   "metadata": {},
   "outputs": [],
   "source": [
    "!pip install transformers\n",
    "!pip install trl\n",
    "!pip install datasets\n",
    "!pip install pandas\n",
    "!pip install scikit-learn"
   ]
  },
  {
   "cell_type": "code",
   "execution_count": 1,
   "id": "d49b6039-b90a-47dd-a3d2-d978e53270e1",
   "metadata": {},
   "outputs": [
    {
     "name": "stderr",
     "output_type": "stream",
     "text": [
      "2025-02-10 08:04:41.100423: I tensorflow/core/platform/cpu_feature_guard.cc:182] This TensorFlow binary is optimized to use available CPU instructions in performance-critical operations.\n",
      "To enable the following instructions: AVX2 FMA, in other operations, rebuild TensorFlow with the appropriate compiler flags.\n"
     ]
    }
   ],
   "source": [
    "import sys\n",
    "import io\n",
    "import json\n",
    "import os\n",
    "import random\n",
    "import numpy as np\n",
    "import torch\n",
    "import pandas as pd\n",
    "import csv\n",
    "from textwrap import dedent\n",
    "from transformers import (\n",
    "    AutoModelForCausalLM,\n",
    "    AutoTokenizer,\n",
    "    BitsAndBytesConfig,\n",
    "    pipeline\n",
    ")\n",
    "os.environ[\"WANDB_DISABLED\"] = \"true\""
   ]
  },
  {
   "cell_type": "code",
   "execution_count": 2,
   "id": "4b34085d-f482-4ed8-ae56-b7e257880b95",
   "metadata": {},
   "outputs": [],
   "source": [
    "# Replace with local folder/file to model or with Huggingface ID\n",
    "\n",
    "model_name = \"path-to-model\"\n",
    "#model_name = \"meta-llama/Llama-3.1-8B-Instruct\""
   ]
  },
  {
   "cell_type": "code",
   "execution_count": 3,
   "id": "8f37582b-c588-496f-a5bb-1cca854ae80b",
   "metadata": {},
   "outputs": [],
   "source": [
    "device = torch.device(\"cuda\")"
   ]
  },
  {
   "cell_type": "code",
   "execution_count": 4,
   "id": "ec314c5a-b7b5-4a81-9bc1-2ee573739bb0",
   "metadata": {},
   "outputs": [],
   "source": [
    "def seed_everything(seed):\n",
    "    random.seed(seed)\n",
    "    np.random.seed(seed)\n",
    "    torch.manual_seed(seed)\n",
    "\n",
    "seed_everything(0)"
   ]
  },
  {
   "cell_type": "code",
   "execution_count": 5,
   "id": "8f604c5b-48f9-46be-9717-fd7930909dac",
   "metadata": {},
   "outputs": [],
   "source": [
    "# Quantization makes model smaller and let's it fit on most GPUs\n",
    "\n",
    "quantization_config = BitsAndBytesConfig(\n",
    "    load_in_4bit=True, bnb_4bit_quant_type='nf4', bnb_4bit_compute_dtype=torch.bfloat16\n",
    ")"
   ]
  },
  {
   "cell_type": "code",
   "execution_count": 6,
   "id": "4c6ac569-3ed3-4c5a-8ca0-5fda56d0efa7",
   "metadata": {},
   "outputs": [
    {
     "data": {
      "application/vnd.jupyter.widget-view+json": {
       "model_id": "295f76d1958445c79076064540fb271a",
       "version_major": 2,
       "version_minor": 0
      },
      "text/plain": [
       "Loading checkpoint shards:   0%|          | 0/4 [00:00<?, ?it/s]"
      ]
     },
     "metadata": {},
     "output_type": "display_data"
    },
    {
     "name": "stderr",
     "output_type": "stream",
     "text": [
      "You are calling `save_pretrained` to a 4-bit converted model, but your `bitsandbytes` version doesn't support it. If you want to save 4-bit models, make sure to have `bitsandbytes>=0.41.3` installed.\n"
     ]
    }
   ],
   "source": [
    "# Load tokenizer and model\n",
    "\n",
    "tokenizer = AutoTokenizer.from_pretrained(\n",
    "    model_name,\n",
    "    device_map=\"auto\"\n",
    ")\n",
    "\n",
    "model = AutoModelForCausalLM.from_pretrained(\n",
    "    model_name, \n",
    "    quantization_config=quantization_config,\n",
    "    device_map=\"auto\"\n",
    ")"
   ]
  },
  {
   "cell_type": "code",
   "execution_count": 7,
   "id": "047b8f29-0c3f-4cd7-8035-98bb82bcde47",
   "metadata": {},
   "outputs": [
    {
     "name": "stdout",
     "output_type": "stream",
     "text": [
      "<|pad|> 128256\n"
     ]
    }
   ],
   "source": [
    "# Add padding\n",
    "\n",
    "PAD_TOKEN = \"<|pad|>\"\n",
    "\n",
    "tokenizer.add_special_tokens({\"pad_token\": PAD_TOKEN})\n",
    "tokenizer.padding_side = \"right\"\n",
    "\n",
    "model.resize_token_embeddings(len(tokenizer), pad_to_multiple_of=8)\n",
    "\n",
    "print(tokenizer.pad_token, tokenizer.pad_token_id)"
   ]
  },
  {
   "cell_type": "code",
   "execution_count": 8,
   "id": "a352c590-f798-46aa-b236-83d53ef5c2b0",
   "metadata": {},
   "outputs": [],
   "source": [
    "# Create prompt template\n",
    "\n",
    "def format_example(row: dict):\n",
    "    prompt = dedent(\n",
    "        f\"\"\"\n",
    "        {row['annotation']}\n",
    "        \"\"\"\n",
    "    )\n",
    "    messages = [\n",
    "        {\"role\": \"system\",\n",
    "         \"content\": \"Provide an event label for the following text snippet! Do not output anything else!!!\"},\n",
    "        {\"role\": \"user\", \"content\": prompt},\n",
    "        {\"role\": \"assistant\", \"content\": row['tag']}\n",
    "    ]\n",
    "    return tokenizer.apply_chat_template(messages, tokenize=False)"
   ]
  },
  {
   "cell_type": "code",
   "execution_count": 9,
   "id": "8e04fe49-738f-4efc-86c3-2848cd174bfd",
   "metadata": {},
   "outputs": [
    {
     "data": {
      "text/html": [
       "<div>\n",
       "<style scoped>\n",
       "    .dataframe tbody tr th:only-of-type {\n",
       "        vertical-align: middle;\n",
       "    }\n",
       "\n",
       "    .dataframe tbody tr th {\n",
       "        vertical-align: top;\n",
       "    }\n",
       "\n",
       "    .dataframe thead th {\n",
       "        text-align: right;\n",
       "    }\n",
       "</style>\n",
       "<table border=\"1\" class=\"dataframe\">\n",
       "  <thead>\n",
       "    <tr style=\"text-align: right;\">\n",
       "      <th></th>\n",
       "      <th>annotation</th>\n",
       "      <th>tag</th>\n",
       "      <th>text</th>\n",
       "    </tr>\n",
       "  </thead>\n",
       "  <tbody>\n",
       "    <tr>\n",
       "      <th>0</th>\n",
       "      <td>In Front des schon seit Kurfürst Georg Wilhelm...</td>\n",
       "      <td>stative_event</td>\n",
       "      <td>&lt;|begin_of_text|&gt;&lt;|start_header_id|&gt;system&lt;|en...</td>\n",
       "    </tr>\n",
       "    <tr>\n",
       "      <th>1</th>\n",
       "      <td>während nach der Park- und Gartenseite hin ein...</td>\n",
       "      <td>stative_event</td>\n",
       "      <td>&lt;|begin_of_text|&gt;&lt;|start_header_id|&gt;system&lt;|en...</td>\n",
       "    </tr>\n",
       "    <tr>\n",
       "      <th>2</th>\n",
       "      <td>Einige zwanzig Schritte weiter, in Richtung un...</td>\n",
       "      <td>stative_event</td>\n",
       "      <td>&lt;|begin_of_text|&gt;&lt;|start_header_id|&gt;system&lt;|en...</td>\n",
       "    </tr>\n",
       "    <tr>\n",
       "      <th>3</th>\n",
       "      <td>hinter der der Hohen-Cremmener Schindelturm mi...</td>\n",
       "      <td>stative_event</td>\n",
       "      <td>&lt;|begin_of_text|&gt;&lt;|start_header_id|&gt;system&lt;|en...</td>\n",
       "    </tr>\n",
       "    <tr>\n",
       "      <th>4</th>\n",
       "      <td>Fronthaus, Seitenflügel und Kirchhofsmauer bil...</td>\n",
       "      <td>stative_event</td>\n",
       "      <td>&lt;|begin_of_text|&gt;&lt;|start_header_id|&gt;system&lt;|en...</td>\n",
       "    </tr>\n",
       "    <tr>\n",
       "      <th>...</th>\n",
       "      <td>...</td>\n",
       "      <td>...</td>\n",
       "      <td>...</td>\n",
       "    </tr>\n",
       "    <tr>\n",
       "      <th>6661</th>\n",
       "      <td>der bei diesen Worten aufwachte</td>\n",
       "      <td>change_of_state</td>\n",
       "      <td>&lt;|begin_of_text|&gt;&lt;|start_header_id|&gt;system&lt;|en...</td>\n",
       "    </tr>\n",
       "    <tr>\n",
       "      <th>6662</th>\n",
       "      <td>und Briest sagte ruhig</td>\n",
       "      <td>process</td>\n",
       "      <td>&lt;|begin_of_text|&gt;&lt;|start_header_id|&gt;system&lt;|en...</td>\n",
       "    </tr>\n",
       "    <tr>\n",
       "      <th>6663</th>\n",
       "      <td>Ach, Luise</td>\n",
       "      <td>non_event</td>\n",
       "      <td>&lt;|begin_of_text|&gt;&lt;|start_header_id|&gt;system&lt;|en...</td>\n",
       "    </tr>\n",
       "    <tr>\n",
       "      <th>6664</th>\n",
       "      <td>laß</td>\n",
       "      <td>non_event</td>\n",
       "      <td>&lt;|begin_of_text|&gt;&lt;|start_header_id|&gt;system&lt;|en...</td>\n",
       "    </tr>\n",
       "    <tr>\n",
       "      <th>6665</th>\n",
       "      <td>das ist ein zu weites Feld</td>\n",
       "      <td>stative_event</td>\n",
       "      <td>&lt;|begin_of_text|&gt;&lt;|start_header_id|&gt;system&lt;|en...</td>\n",
       "    </tr>\n",
       "  </tbody>\n",
       "</table>\n",
       "<p>6666 rows × 3 columns</p>\n",
       "</div>"
      ],
      "text/plain": [
       "                                             annotation              tag  \\\n",
       "0     In Front des schon seit Kurfürst Georg Wilhelm...    stative_event   \n",
       "1     während nach der Park- und Gartenseite hin ein...    stative_event   \n",
       "2     Einige zwanzig Schritte weiter, in Richtung un...    stative_event   \n",
       "3     hinter der der Hohen-Cremmener Schindelturm mi...    stative_event   \n",
       "4     Fronthaus, Seitenflügel und Kirchhofsmauer bil...    stative_event   \n",
       "...                                                 ...              ...   \n",
       "6661                    der bei diesen Worten aufwachte  change_of_state   \n",
       "6662                             und Briest sagte ruhig          process   \n",
       "6663                                         Ach, Luise        non_event   \n",
       "6664                                                laß        non_event   \n",
       "6665                         das ist ein zu weites Feld    stative_event   \n",
       "\n",
       "                                                   text  \n",
       "0     <|begin_of_text|><|start_header_id|>system<|en...  \n",
       "1     <|begin_of_text|><|start_header_id|>system<|en...  \n",
       "2     <|begin_of_text|><|start_header_id|>system<|en...  \n",
       "3     <|begin_of_text|><|start_header_id|>system<|en...  \n",
       "4     <|begin_of_text|><|start_header_id|>system<|en...  \n",
       "...                                                 ...  \n",
       "6661  <|begin_of_text|><|start_header_id|>system<|en...  \n",
       "6662  <|begin_of_text|><|start_header_id|>system<|en...  \n",
       "6663  <|begin_of_text|><|start_header_id|>system<|en...  \n",
       "6664  <|begin_of_text|><|start_header_id|>system<|en...  \n",
       "6665  <|begin_of_text|><|start_header_id|>system<|en...  \n",
       "\n",
       "[6666 rows x 3 columns]"
      ]
     },
     "execution_count": 9,
     "metadata": {},
     "output_type": "execute_result"
    }
   ],
   "source": [
    "# Load data\n",
    "\n",
    "# Data from https://doi.org/10.5334/johd.83\n",
    "df=pd.read_csv('./events.csv',sep=',')\n",
    "df=df[['annotation', 'tag']]\n",
    "df['text'] = df.apply(format_example, axis=1)\n",
    "df"
   ]
  },
  {
   "cell_type": "code",
   "execution_count": 10,
   "id": "e9fd244e-2d93-4a04-8edd-1f05fe5fd3c8",
   "metadata": {},
   "outputs": [],
   "source": [
    "# Split into train, validation, test\n",
    "\n",
    "from sklearn.model_selection import train_test_split\n",
    "\n",
    "train, temp = train_test_split(df, test_size=0.2, random_state=1)\n",
    "val, test = train_test_split(temp, test_size=0.2, random_state=1)\n",
    "\n",
    "# save training-ready data to JSON\n",
    "train.to_json(\"train.json\", orient='records', lines=True)\n",
    "val.to_json(\"val.json\", orient='records', lines=True)\n",
    "test.to_json(\"test.json\", orient='records', lines=True)"
   ]
  },
  {
   "cell_type": "code",
   "execution_count": 11,
   "id": "93365c3c-4259-4c9d-bc87-de5c8188178f",
   "metadata": {},
   "outputs": [
    {
     "data": {
      "application/vnd.jupyter.widget-view+json": {
       "model_id": "7238f499a8324e04946d00414e7dcfef",
       "version_major": 2,
       "version_minor": 0
      },
      "text/plain": [
       "Downloading data files:   0%|          | 0/3 [00:00<?, ?it/s]"
      ]
     },
     "metadata": {},
     "output_type": "display_data"
    },
    {
     "data": {
      "application/vnd.jupyter.widget-view+json": {
       "model_id": "120027dbc93e4c07b35dc5572f5850f6",
       "version_major": 2,
       "version_minor": 0
      },
      "text/plain": [
       "Extracting data files:   0%|          | 0/3 [00:00<?, ?it/s]"
      ]
     },
     "metadata": {},
     "output_type": "display_data"
    },
    {
     "data": {
      "application/vnd.jupyter.widget-view+json": {
       "model_id": "05912ca7d7024e37aeef1827b4a5b1f8",
       "version_major": 2,
       "version_minor": 0
      },
      "text/plain": [
       "Generating train split: 0 examples [00:00, ? examples/s]"
      ]
     },
     "metadata": {},
     "output_type": "display_data"
    },
    {
     "data": {
      "application/vnd.jupyter.widget-view+json": {
       "model_id": "430135bab298481e94c91d331659f80b",
       "version_major": 2,
       "version_minor": 0
      },
      "text/plain": [
       "Generating validation split: 0 examples [00:00, ? examples/s]"
      ]
     },
     "metadata": {},
     "output_type": "display_data"
    },
    {
     "data": {
      "application/vnd.jupyter.widget-view+json": {
       "model_id": "7b0ae5125a774bf39dd4d2778d835de7",
       "version_major": 2,
       "version_minor": 0
      },
      "text/plain": [
       "Generating test split: 0 examples [00:00, ? examples/s]"
      ]
     },
     "metadata": {},
     "output_type": "display_data"
    },
    {
     "name": "stdout",
     "output_type": "stream",
     "text": [
      "<|begin_of_text|><|start_header_id|>system<|end_header_id|>\n",
      "\n",
      "Cutting Knowledge Date: December 2023\n",
      "Today Date: 26 Jul 2024\n",
      "\n",
      "Give a value for the following text snippet! The only possible values are: 'Rolle', 'Charakter', 'Alter', 'Physiognomie', 'Kleidung'. Do not output anything other than one of these values!!!<|eot_id|><|start_header_id|>user<|end_header_id|>\n",
      "\n",
      "Innstetten war ernsthaft gewillt, auf das stille Leben ein  gesellschaftlich angeregteres folgen zu lassen, um seinet- und noch mehr um Effi's willen<|eot_id|><|start_header_id|>assistant<|end_header_id|>\n",
      "\n",
      "stative_event<|eot_id|>\n"
     ]
    }
   ],
   "source": [
    "# Transform to Huggingface-style dataset\n",
    "\n",
    "from datasets import load_dataset\n",
    "\n",
    "dataset = load_dataset(\n",
    "    \"json\",\n",
    "    data_files={'train': 'train.json', 'validation': 'val.json', 'test': 'test.json'}\n",
    ")\n",
    "\n",
    "print(dataset['train'][0]['text'])"
   ]
  },
  {
   "cell_type": "code",
   "execution_count": 12,
   "id": "7fb9ea55-9218-4229-9650-635ee4f65b03",
   "metadata": {},
   "outputs": [],
   "source": [
    "# Create data collator\n",
    "\n",
    "from trl import DataCollatorForCompletionOnlyLM\n",
    "\n",
    "response_template = \"<|end_header_id|>\"\n",
    "collator = DataCollatorForCompletionOnlyLM(response_template, tokenizer=tokenizer)"
   ]
  },
  {
   "cell_type": "code",
   "execution_count": null,
   "id": "c4ef7016-9d8c-491f-8789-0a4765a65975",
   "metadata": {},
   "outputs": [],
   "source": [
    "# get target module names for LoRA\n",
    "target_names = []\n",
    "for name, module in model.named_modules():\n",
    "    if isinstance(module, nn.Linear) and \"decoder.layers.\" in name:\n",
    "        target_names.append(name)\n",
    "target_names"
   ]
  },
  {
   "cell_type": "code",
   "execution_count": 13,
   "id": "8d18d90b-6d27-41ac-ac5a-299ec63c8f57",
   "metadata": {},
   "outputs": [
    {
     "name": "stdout",
     "output_type": "stream",
     "text": [
      "trainable params: 83,886,080 || all params: 8,114,212,864 || trainable%: 1.0338166055782685\n",
      "None\n"
     ]
    }
   ],
   "source": [
    "# Configure LoRA\n",
    "\n",
    "from peft import (\n",
    "    LoraConfig,\n",
    "    TaskType,\n",
    "    get_peft_model,\n",
    "    prepare_model_for_kbit_training\n",
    ")\n",
    "\n",
    "lora_config = LoraConfig(\n",
    "    r=32,\n",
    "    lora_alpha=16,\n",
    "    target_modules=[\n",
    "        \"self_attn.q_proj\",\n",
    "        \"self_attn.k_proj\",\n",
    "        \"self_attn.v_proj\",\n",
    "        \"self_attn.o_proj\",\n",
    "        \"mlp.gate_proj\",\n",
    "        \"mlp.up_proj\",\n",
    "        \"mlp.down_proj\"\n",
    "    ],\n",
    "    lora_dropout=0.05,\n",
    "    bias='none',\n",
    "    task_type=TaskType.CAUSAL_LM\n",
    ")\n",
    "\n",
    "model = prepare_model_for_kbit_training(model)\n",
    "model = get_peft_model(model, lora_config)\n",
    "\n",
    "print(model.print_trainable_parameters())"
   ]
  },
  {
   "cell_type": "code",
   "execution_count": 14,
   "id": "16644aa6-17ec-4a2d-b1c2-770f5f244c6b",
   "metadata": {},
   "outputs": [
    {
     "name": "stderr",
     "output_type": "stream",
     "text": [
      "Using the `WANDB_DISABLED` environment variable is deprecated and will be removed in v5. Use the --report_to flag to control the integrations used for logging result (for instance --report_to none).\n"
     ]
    },
    {
     "data": {
      "application/vnd.jupyter.widget-view+json": {
       "model_id": "4712f82d221a4f0eaa582346b637eb71",
       "version_major": 2,
       "version_minor": 0
      },
      "text/plain": [
       "Map:   0%|          | 0/5332 [00:00<?, ? examples/s]"
      ]
     },
     "metadata": {},
     "output_type": "display_data"
    },
    {
     "data": {
      "application/vnd.jupyter.widget-view+json": {
       "model_id": "b86ed8d977c944869bfde008d9900394",
       "version_major": 2,
       "version_minor": 0
      },
      "text/plain": [
       "Map:   0%|          | 0/1067 [00:00<?, ? examples/s]"
      ]
     },
     "metadata": {},
     "output_type": "display_data"
    },
    {
     "name": "stderr",
     "output_type": "stream",
     "text": [
      "Detected kernel version 4.15.0, which is below the recommended minimum of 5.5.0; this can cause the process to hang. It is recommended to upgrade the kernel to the minimum version or higher.\n"
     ]
    }
   ],
   "source": [
    "# Configure fine tuning\n",
    "\n",
    "from trl import SFTConfig, SFTTrainer\n",
    "\n",
    "OUTPUT_DIR = \"events\"\n",
    "\n",
    "sft_config = SFTConfig(\n",
    "    output_dir=OUTPUT_DIR,\n",
    "    dataset_text_field='text',\n",
    "    max_seq_length=4096,\n",
    "    num_train_epochs=1,\n",
    "    per_device_train_batch_size=8,\n",
    "    per_device_eval_batch_size=8,\n",
    "    gradient_accumulation_steps=4,\n",
    "    optim=\"paged_adamw_8bit\",\n",
    "    eval_strategy='steps',\n",
    "    eval_steps=0.2,\n",
    "    save_steps=0.2,\n",
    "    logging_steps=10,\n",
    "    learning_rate=1e-4,\n",
    "    fp16=True,\n",
    "    save_strategy='steps',\n",
    "    warmup_ratio=0.1,\n",
    "    save_total_limit=2,\n",
    "    lr_scheduler_type=\"cosine\",\n",
    "    save_safetensors=True,\n",
    "    dataset_kwargs={\n",
    "        \"add_special_tokens\": False,\n",
    "        \"append_concat_token\": False,\n",
    "    },\n",
    "    seed=1\n",
    ")\n",
    "\n",
    "trainer = SFTTrainer(\n",
    "    model=model,\n",
    "    args=sft_config,\n",
    "    train_dataset=dataset['train'],\n",
    "    eval_dataset=dataset['validation'],\n",
    "    tokenizer=tokenizer,\n",
    "    data_collator=collator,\n",
    ")"
   ]
  },
  {
   "cell_type": "code",
   "execution_count": 15,
   "id": "0a85f9ac-8f01-48af-80f5-3567f8b5660e",
   "metadata": {},
   "outputs": [
    {
     "name": "stderr",
     "output_type": "stream",
     "text": [
      "`use_cache=True` is incompatible with gradient checkpointing. Setting `use_cache=False`.\n"
     ]
    },
    {
     "data": {
      "text/html": [
       "\n",
       "    <div>\n",
       "      \n",
       "      <progress value='166' max='166' style='width:300px; height:20px; vertical-align: middle;'></progress>\n",
       "      [166/166 19:38, Epoch 0/1]\n",
       "    </div>\n",
       "    <table border=\"1\" class=\"dataframe\">\n",
       "  <thead>\n",
       " <tr style=\"text-align: left;\">\n",
       "      <th>Step</th>\n",
       "      <th>Training Loss</th>\n",
       "      <th>Validation Loss</th>\n",
       "    </tr>\n",
       "  </thead>\n",
       "  <tbody>\n",
       "    <tr>\n",
       "      <td>34</td>\n",
       "      <td>0.369500</td>\n",
       "      <td>0.303238</td>\n",
       "    </tr>\n",
       "    <tr>\n",
       "      <td>68</td>\n",
       "      <td>0.265500</td>\n",
       "      <td>0.223762</td>\n",
       "    </tr>\n",
       "    <tr>\n",
       "      <td>102</td>\n",
       "      <td>0.219400</td>\n",
       "      <td>0.201577</td>\n",
       "    </tr>\n",
       "    <tr>\n",
       "      <td>136</td>\n",
       "      <td>0.188100</td>\n",
       "      <td>0.192676</td>\n",
       "    </tr>\n",
       "  </tbody>\n",
       "</table><p>"
      ],
      "text/plain": [
       "<IPython.core.display.HTML object>"
      ]
     },
     "metadata": {},
     "output_type": "display_data"
    },
    {
     "name": "stderr",
     "output_type": "stream",
     "text": [
      "We detected that you are passing `past_key_values` as a tuple and this is deprecated and will be removed in v4.43. Please use an appropriate `Cache` class (https://huggingface.co/docs/transformers/v4.41.3/en/internal/generation_utils#transformers.Cache)\n"
     ]
    },
    {
     "data": {
      "text/plain": [
       "TrainOutput(global_step=166, training_loss=0.7382727344352079, metrics={'train_runtime': 1185.991, 'train_samples_per_second': 4.496, 'train_steps_per_second': 0.14, 'total_flos': 2.678691772465152e+16, 'train_loss': 0.7382727344352079, 'epoch': 0.9955022488755623})"
      ]
     },
     "execution_count": 15,
     "metadata": {},
     "output_type": "execute_result"
    }
   ],
   "source": [
    "# Start fine tuning\n",
    "\n",
    "trainer.train()"
   ]
  }
 ],
 "metadata": {
  "kernelspec": {
   "display_name": "Python 3 (ipykernel)",
   "language": "python",
   "name": "python3"
  },
  "language_info": {
   "codemirror_mode": {
    "name": "ipython",
    "version": 3
   },
   "file_extension": ".py",
   "mimetype": "text/x-python",
   "name": "python",
   "nbconvert_exporter": "python",
   "pygments_lexer": "ipython3",
   "version": "3.13.1"
  }
 },
 "nbformat": 4,
 "nbformat_minor": 5
}
